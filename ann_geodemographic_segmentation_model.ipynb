{
 "cells": [
  {
   "cell_type": "markdown",
   "metadata": {
    "colab_type": "text",
    "id": "lP6JLo1tGNBg"
   },
   "source": [
    "# Artificial Neural Network"
   ]
  },
  {
   "cell_type": "markdown",
   "metadata": {
    "colab_type": "text",
    "id": "gWZyYmS_UE_L"
   },
   "source": [
    "### Importing the libraries"
   ]
  },
  {
   "cell_type": "code",
   "execution_count": 1,
   "metadata": {},
   "outputs": [
    {
     "data": {
      "text/plain": [
       "'2.2.0'"
      ]
     },
     "execution_count": 1,
     "metadata": {},
     "output_type": "execute_result"
    }
   ],
   "source": [
    "import numpy as np\n",
    "import pandas as pd\n",
    "import tensorflow as tf\n",
    "\n",
    "tf.__version__"
   ]
  },
  {
   "cell_type": "markdown",
   "metadata": {
    "colab_type": "text",
    "id": "1E0Q3aoKUCRX"
   },
   "source": [
    "## Part 1 - Data Preprocessing"
   ]
  },
  {
   "cell_type": "markdown",
   "metadata": {
    "colab_type": "text",
    "id": "cKWAkFVGUU0Z"
   },
   "source": [
    "### Importing the dataset"
   ]
  },
  {
   "cell_type": "code",
   "execution_count": 2,
   "metadata": {},
   "outputs": [],
   "source": [
    "dataset = pd.read_csv('Churn_Modelling.csv')\n",
    "X = dataset.iloc[:, 3:-1].values\n",
    "y = dataset.iloc[:, -1].values"
   ]
  },
  {
   "cell_type": "code",
   "execution_count": 3,
   "metadata": {},
   "outputs": [
    {
     "name": "stdout",
     "output_type": "stream",
     "text": [
      "[[619 'France' 'Female' ... 1 1 101348.88]\n",
      " [608 'Spain' 'Female' ... 0 1 112542.58]\n",
      " [502 'France' 'Female' ... 1 0 113931.57]\n",
      " ...\n",
      " [709 'France' 'Female' ... 0 1 42085.58]\n",
      " [772 'Germany' 'Male' ... 1 0 92888.52]\n",
      " [792 'France' 'Female' ... 1 0 38190.78]]\n"
     ]
    }
   ],
   "source": [
    "print(X)"
   ]
  },
  {
   "cell_type": "code",
   "execution_count": 4,
   "metadata": {},
   "outputs": [
    {
     "name": "stdout",
     "output_type": "stream",
     "text": [
      "[1 0 1 ... 1 1 0]\n"
     ]
    }
   ],
   "source": [
    "print(y)"
   ]
  },
  {
   "cell_type": "markdown",
   "metadata": {
    "colab_type": "text",
    "id": "N6bQ0UgSU-NJ"
   },
   "source": [
    "### Encoding categorical data"
   ]
  },
  {
   "cell_type": "markdown",
   "metadata": {
    "colab_type": "text",
    "id": "le5MJreAbW52"
   },
   "source": [
    "Label Encoding the \"Gender\" column"
   ]
  },
  {
   "cell_type": "code",
   "execution_count": 5,
   "metadata": {},
   "outputs": [
    {
     "name": "stdout",
     "output_type": "stream",
     "text": [
      "[[619 'France' 0 ... 1 1 101348.88]\n",
      " [608 'Spain' 0 ... 0 1 112542.58]\n",
      " [502 'France' 0 ... 1 0 113931.57]\n",
      " ...\n",
      " [709 'France' 0 ... 0 1 42085.58]\n",
      " [772 'Germany' 1 ... 1 0 92888.52]\n",
      " [792 'France' 0 ... 1 0 38190.78]]\n"
     ]
    }
   ],
   "source": [
    "from sklearn.preprocessing import LabelEncoder\n",
    "le = LabelEncoder()\n",
    "X[:, 2] = le.fit_transform(X[:,2])\n",
    "print(X)"
   ]
  },
  {
   "cell_type": "markdown",
   "metadata": {
    "colab_type": "text",
    "id": "CUxGZezpbMcb"
   },
   "source": [
    "One Hot Encoding the \"Geography\" column"
   ]
  },
  {
   "cell_type": "code",
   "execution_count": 6,
   "metadata": {},
   "outputs": [],
   "source": [
    "from sklearn.compose import ColumnTransformer\n",
    "from sklearn.preprocessing import OneHotEncoder\n",
    "ct = ColumnTransformer(transformers=[('encoder', OneHotEncoder(), [1])], remainder='passthrough')\n",
    "X = np.array(ct.fit_transform(X))"
   ]
  },
  {
   "cell_type": "code",
   "execution_count": 7,
   "metadata": {},
   "outputs": [
    {
     "name": "stdout",
     "output_type": "stream",
     "text": [
      "[[1.0 0.0 0.0 ... 1 1 101348.88]\n",
      " [0.0 0.0 1.0 ... 0 1 112542.58]\n",
      " [1.0 0.0 0.0 ... 1 0 113931.57]\n",
      " ...\n",
      " [1.0 0.0 0.0 ... 0 1 42085.58]\n",
      " [0.0 1.0 0.0 ... 1 0 92888.52]\n",
      " [1.0 0.0 0.0 ... 1 0 38190.78]]\n"
     ]
    }
   ],
   "source": [
    "print(X)"
   ]
  },
  {
   "cell_type": "markdown",
   "metadata": {
    "colab_type": "text",
    "id": "vHol938cW8zd"
   },
   "source": [
    "### Splitting the dataset into the Training set and Test set"
   ]
  },
  {
   "cell_type": "code",
   "execution_count": 8,
   "metadata": {},
   "outputs": [],
   "source": [
    "from sklearn.model_selection import train_test_split\n",
    "X_train, X_test, y_train, y_test = train_test_split(X, y, test_size = 0.2, random_state = 0)"
   ]
  },
  {
   "cell_type": "markdown",
   "metadata": {
    "colab_type": "text",
    "id": "RE_FcHyfV3TQ"
   },
   "source": [
    "### Feature Scaling"
   ]
  },
  {
   "cell_type": "code",
   "execution_count": 9,
   "metadata": {},
   "outputs": [],
   "source": [
    "from sklearn.preprocessing import StandardScaler\n",
    "sc = StandardScaler()\n",
    "X_train = sc.fit_transform(X_train)\n",
    "X_test = sc.transform(X_test)"
   ]
  },
  {
   "cell_type": "markdown",
   "metadata": {
    "colab_type": "text",
    "id": "-zfEzkRVXIwF"
   },
   "source": [
    "## Part 2 - Building the ANN"
   ]
  },
  {
   "cell_type": "markdown",
   "metadata": {
    "colab_type": "text",
    "id": "KvdeScabXtlB"
   },
   "source": [
    "### Initializing the ANN"
   ]
  },
  {
   "cell_type": "code",
   "execution_count": 10,
   "metadata": {},
   "outputs": [],
   "source": [
    "ann = tf.keras.models.Sequential()"
   ]
  },
  {
   "cell_type": "markdown",
   "metadata": {
    "colab_type": "text",
    "id": "rP6urV6SX7kS"
   },
   "source": [
    "### Adding the input layer and the first hidden layer"
   ]
  },
  {
   "cell_type": "code",
   "execution_count": 11,
   "metadata": {},
   "outputs": [],
   "source": [
    "ann.add(tf.keras.layers.Dense(6, activation='relu'))"
   ]
  },
  {
   "cell_type": "markdown",
   "metadata": {
    "colab_type": "text",
    "id": "BELWAc_8YJze"
   },
   "source": [
    "### Adding the second hidden layer"
   ]
  },
  {
   "cell_type": "code",
   "execution_count": 12,
   "metadata": {},
   "outputs": [],
   "source": [
    "ann.add(tf.keras.layers.Dense(6, activation='relu'))"
   ]
  },
  {
   "cell_type": "markdown",
   "metadata": {
    "colab_type": "text",
    "id": "OyNEe6RXYcU4"
   },
   "source": [
    "### Adding the output layer"
   ]
  },
  {
   "cell_type": "code",
   "execution_count": 13,
   "metadata": {},
   "outputs": [],
   "source": [
    "ann.add(tf.keras.layers.Dense(1, activation='sigmoid'))"
   ]
  },
  {
   "cell_type": "markdown",
   "metadata": {
    "colab_type": "text",
    "id": "JT4u2S1_Y4WG"
   },
   "source": [
    "## Part 3 - Training the ANN"
   ]
  },
  {
   "cell_type": "markdown",
   "metadata": {
    "colab_type": "text",
    "id": "8GWlJChhY_ZI"
   },
   "source": [
    "### Compiling the ANN"
   ]
  },
  {
   "cell_type": "code",
   "execution_count": 14,
   "metadata": {},
   "outputs": [],
   "source": [
    "ann.compile(optimizer = 'adam' , loss = 'binary_crossentropy', metrics = ['accuracy'])"
   ]
  },
  {
   "cell_type": "markdown",
   "metadata": {
    "colab_type": "text",
    "id": "0QR_G5u7ZLSM"
   },
   "source": [
    "### Training the ANN on the Training set"
   ]
  },
  {
   "cell_type": "code",
   "execution_count": 15,
   "metadata": {},
   "outputs": [
    {
     "name": "stdout",
     "output_type": "stream",
     "text": [
      "Epoch 1/100\n",
      "250/250 [==============================] - 0s 505us/step - loss: 0.6274 - accuracy: 0.6640\n",
      "Epoch 2/100\n",
      "250/250 [==============================] - 0s 503us/step - loss: 0.4883 - accuracy: 0.7994\n",
      "Epoch 3/100\n",
      "250/250 [==============================] - 0s 523us/step - loss: 0.4433 - accuracy: 0.8052\n",
      "Epoch 4/100\n",
      "250/250 [==============================] - 0s 539us/step - loss: 0.4300 - accuracy: 0.8089\n",
      "Epoch 5/100\n",
      "250/250 [==============================] - 0s 519us/step - loss: 0.4224 - accuracy: 0.8131\n",
      "Epoch 6/100\n",
      "250/250 [==============================] - 0s 523us/step - loss: 0.4158 - accuracy: 0.8199\n",
      "Epoch 7/100\n",
      "250/250 [==============================] - 0s 515us/step - loss: 0.4098 - accuracy: 0.8216\n",
      "Epoch 8/100\n",
      "250/250 [==============================] - 0s 515us/step - loss: 0.4046 - accuracy: 0.8220\n",
      "Epoch 9/100\n",
      "250/250 [==============================] - 0s 511us/step - loss: 0.3993 - accuracy: 0.8245\n",
      "Epoch 10/100\n",
      "250/250 [==============================] - 0s 531us/step - loss: 0.3937 - accuracy: 0.8261\n",
      "Epoch 11/100\n",
      "250/250 [==============================] - 0s 519us/step - loss: 0.3865 - accuracy: 0.8306\n",
      "Epoch 12/100\n",
      "250/250 [==============================] - 0s 505us/step - loss: 0.3789 - accuracy: 0.8380\n",
      "Epoch 13/100\n",
      "250/250 [==============================] - 0s 509us/step - loss: 0.3712 - accuracy: 0.8429\n",
      "Epoch 14/100\n",
      "250/250 [==============================] - 0s 515us/step - loss: 0.3658 - accuracy: 0.8468\n",
      "Epoch 15/100\n",
      "250/250 [==============================] - 0s 547us/step - loss: 0.3606 - accuracy: 0.8503\n",
      "Epoch 16/100\n",
      "250/250 [==============================] - 0s 531us/step - loss: 0.3562 - accuracy: 0.8536\n",
      "Epoch 17/100\n",
      "250/250 [==============================] - 0s 515us/step - loss: 0.3526 - accuracy: 0.8554\n",
      "Epoch 18/100\n",
      "250/250 [==============================] - 0s 527us/step - loss: 0.3499 - accuracy: 0.8591\n",
      "Epoch 19/100\n",
      "250/250 [==============================] - 0s 527us/step - loss: 0.3477 - accuracy: 0.8581\n",
      "Epoch 20/100\n",
      "250/250 [==============================] - 0s 527us/step - loss: 0.3459 - accuracy: 0.8590\n",
      "Epoch 21/100\n",
      "250/250 [==============================] - 0s 503us/step - loss: 0.3445 - accuracy: 0.8597\n",
      "Epoch 22/100\n",
      "250/250 [==============================] - 0s 515us/step - loss: 0.3436 - accuracy: 0.8599\n",
      "Epoch 23/100\n",
      "250/250 [==============================] - 0s 521us/step - loss: 0.3425 - accuracy: 0.8611\n",
      "Epoch 24/100\n",
      "250/250 [==============================] - 0s 517us/step - loss: 0.3416 - accuracy: 0.8597\n",
      "Epoch 25/100\n",
      "250/250 [==============================] - 0s 523us/step - loss: 0.3410 - accuracy: 0.8606\n",
      "Epoch 26/100\n",
      "250/250 [==============================] - 0s 535us/step - loss: 0.3403 - accuracy: 0.8605\n",
      "Epoch 27/100\n",
      "250/250 [==============================] - 0s 535us/step - loss: 0.3398 - accuracy: 0.8612\n",
      "Epoch 28/100\n",
      "250/250 [==============================] - 0s 519us/step - loss: 0.3393 - accuracy: 0.8622\n",
      "Epoch 29/100\n",
      "250/250 [==============================] - 0s 515us/step - loss: 0.3384 - accuracy: 0.8610\n",
      "Epoch 30/100\n",
      "250/250 [==============================] - 0s 523us/step - loss: 0.3384 - accuracy: 0.8612\n",
      "Epoch 31/100\n",
      "250/250 [==============================] - 0s 523us/step - loss: 0.3380 - accuracy: 0.8616\n",
      "Epoch 32/100\n",
      "250/250 [==============================] - 0s 535us/step - loss: 0.3377 - accuracy: 0.8610\n",
      "Epoch 33/100\n",
      "250/250 [==============================] - 0s 547us/step - loss: 0.3375 - accuracy: 0.8618\n",
      "Epoch 34/100\n",
      "250/250 [==============================] - 0s 720us/step - loss: 0.3374 - accuracy: 0.8601\n",
      "Epoch 35/100\n",
      "250/250 [==============================] - 0s 648us/step - loss: 0.3372 - accuracy: 0.8621\n",
      "Epoch 36/100\n",
      "250/250 [==============================] - 0s 706us/step - loss: 0.3367 - accuracy: 0.8606\n",
      "Epoch 37/100\n",
      "250/250 [==============================] - 0s 523us/step - loss: 0.3369 - accuracy: 0.8611\n",
      "Epoch 38/100\n",
      "250/250 [==============================] - 0s 515us/step - loss: 0.3366 - accuracy: 0.8615\n",
      "Epoch 39/100\n",
      "250/250 [==============================] - 0s 515us/step - loss: 0.3362 - accuracy: 0.8621\n",
      "Epoch 40/100\n",
      "250/250 [==============================] - 0s 507us/step - loss: 0.3358 - accuracy: 0.8630\n",
      "Epoch 41/100\n",
      "250/250 [==============================] - 0s 491us/step - loss: 0.3359 - accuracy: 0.8610\n",
      "Epoch 42/100\n",
      "250/250 [==============================] - 0s 523us/step - loss: 0.3356 - accuracy: 0.8631\n",
      "Epoch 43/100\n",
      "250/250 [==============================] - 0s 539us/step - loss: 0.3357 - accuracy: 0.8621\n",
      "Epoch 44/100\n",
      "250/250 [==============================] - 0s 527us/step - loss: 0.3354 - accuracy: 0.8622\n",
      "Epoch 45/100\n",
      "250/250 [==============================] - 0s 509us/step - loss: 0.3354 - accuracy: 0.8629\n",
      "Epoch 46/100\n",
      "250/250 [==============================] - 0s 517us/step - loss: 0.3349 - accuracy: 0.8643\n",
      "Epoch 47/100\n",
      "250/250 [==============================] - 0s 531us/step - loss: 0.3351 - accuracy: 0.8639\n",
      "Epoch 48/100\n",
      "250/250 [==============================] - 0s 511us/step - loss: 0.3350 - accuracy: 0.8614\n",
      "Epoch 49/100\n",
      "250/250 [==============================] - 0s 531us/step - loss: 0.3350 - accuracy: 0.8634\n",
      "Epoch 50/100\n",
      "250/250 [==============================] - 0s 543us/step - loss: 0.3348 - accuracy: 0.8620\n",
      "Epoch 51/100\n",
      "250/250 [==============================] - 0s 519us/step - loss: 0.3346 - accuracy: 0.8612\n",
      "Epoch 52/100\n",
      "250/250 [==============================] - 0s 511us/step - loss: 0.3346 - accuracy: 0.8637\n",
      "Epoch 53/100\n",
      "250/250 [==============================] - 0s 507us/step - loss: 0.3346 - accuracy: 0.8634\n",
      "Epoch 54/100\n",
      "250/250 [==============================] - 0s 511us/step - loss: 0.3343 - accuracy: 0.8618\n",
      "Epoch 55/100\n",
      "250/250 [==============================] - 0s 517us/step - loss: 0.3347 - accuracy: 0.8614\n",
      "Epoch 56/100\n",
      "250/250 [==============================] - 0s 541us/step - loss: 0.3341 - accuracy: 0.8640\n",
      "Epoch 57/100\n",
      "250/250 [==============================] - 0s 537us/step - loss: 0.3340 - accuracy: 0.8646\n",
      "Epoch 58/100\n",
      "250/250 [==============================] - 0s 734us/step - loss: 0.3339 - accuracy: 0.8652\n",
      "Epoch 59/100\n",
      "250/250 [==============================] - 0s 574us/step - loss: 0.3342 - accuracy: 0.8629\n",
      "Epoch 60/100\n",
      "250/250 [==============================] - 0s 547us/step - loss: 0.3343 - accuracy: 0.8627\n",
      "Epoch 61/100\n",
      "250/250 [==============================] - 0s 511us/step - loss: 0.3341 - accuracy: 0.8635\n",
      "Epoch 62/100\n",
      "250/250 [==============================] - 0s 511us/step - loss: 0.3339 - accuracy: 0.8621\n",
      "Epoch 63/100\n",
      "250/250 [==============================] - 0s 531us/step - loss: 0.3338 - accuracy: 0.8644\n",
      "Epoch 64/100\n",
      "250/250 [==============================] - 0s 527us/step - loss: 0.3339 - accuracy: 0.8620\n",
      "Epoch 65/100\n",
      "250/250 [==============================] - 0s 515us/step - loss: 0.3337 - accuracy: 0.8627\n",
      "Epoch 66/100\n",
      "250/250 [==============================] - 0s 515us/step - loss: 0.3334 - accuracy: 0.8633\n",
      "Epoch 67/100\n",
      "250/250 [==============================] - 0s 515us/step - loss: 0.3333 - accuracy: 0.8633\n",
      "Epoch 68/100\n",
      "250/250 [==============================] - 0s 535us/step - loss: 0.3333 - accuracy: 0.8630\n",
      "Epoch 69/100\n",
      "250/250 [==============================] - 0s 507us/step - loss: 0.3332 - accuracy: 0.8645\n",
      "Epoch 70/100\n",
      "250/250 [==============================] - 0s 495us/step - loss: 0.3333 - accuracy: 0.8631\n",
      "Epoch 71/100\n",
      "250/250 [==============================] - 0s 479us/step - loss: 0.3332 - accuracy: 0.8630\n",
      "Epoch 72/100\n",
      "250/250 [==============================] - 0s 507us/step - loss: 0.3328 - accuracy: 0.8625\n",
      "Epoch 73/100\n",
      "250/250 [==============================] - 0s 543us/step - loss: 0.3330 - accuracy: 0.8634\n",
      "Epoch 74/100\n",
      "250/250 [==============================] - 0s 535us/step - loss: 0.3327 - accuracy: 0.8625\n",
      "Epoch 75/100\n",
      "250/250 [==============================] - 0s 511us/step - loss: 0.3327 - accuracy: 0.8625\n",
      "Epoch 76/100\n",
      "250/250 [==============================] - 0s 507us/step - loss: 0.3327 - accuracy: 0.8630\n",
      "Epoch 77/100\n",
      "250/250 [==============================] - 0s 519us/step - loss: 0.3325 - accuracy: 0.8634\n",
      "Epoch 78/100\n",
      "250/250 [==============================] - 0s 515us/step - loss: 0.3327 - accuracy: 0.8637\n",
      "Epoch 79/100\n"
     ]
    },
    {
     "name": "stdout",
     "output_type": "stream",
     "text": [
      "250/250 [==============================] - 0s 519us/step - loss: 0.3325 - accuracy: 0.8629\n",
      "Epoch 80/100\n",
      "250/250 [==============================] - 0s 513us/step - loss: 0.3327 - accuracy: 0.8636\n",
      "Epoch 81/100\n",
      "250/250 [==============================] - 0s 513us/step - loss: 0.3324 - accuracy: 0.8629\n",
      "Epoch 82/100\n",
      "250/250 [==============================] - 0s 507us/step - loss: 0.3326 - accuracy: 0.8640\n",
      "Epoch 83/100\n",
      "250/250 [==============================] - 0s 499us/step - loss: 0.3325 - accuracy: 0.8630\n",
      "Epoch 84/100\n",
      "250/250 [==============================] - 0s 682us/step - loss: 0.3320 - accuracy: 0.8635\n",
      "Epoch 85/100\n",
      "250/250 [==============================] - 0s 654us/step - loss: 0.3325 - accuracy: 0.8620\n",
      "Epoch 86/100\n",
      "250/250 [==============================] - 0s 471us/step - loss: 0.3323 - accuracy: 0.8636\n",
      "Epoch 87/100\n",
      "250/250 [==============================] - 0s 479us/step - loss: 0.3320 - accuracy: 0.8624\n",
      "Epoch 88/100\n",
      "250/250 [==============================] - 0s 507us/step - loss: 0.3320 - accuracy: 0.8636\n",
      "Epoch 89/100\n",
      "250/250 [==============================] - 0s 523us/step - loss: 0.3322 - accuracy: 0.8643\n",
      "Epoch 90/100\n",
      "250/250 [==============================] - 0s 519us/step - loss: 0.3318 - accuracy: 0.8654\n",
      "Epoch 91/100\n",
      "250/250 [==============================] - 0s 509us/step - loss: 0.3319 - accuracy: 0.8631\n",
      "Epoch 92/100\n",
      "250/250 [==============================] - 0s 493us/step - loss: 0.3315 - accuracy: 0.8626\n",
      "Epoch 93/100\n",
      "250/250 [==============================] - 0s 515us/step - loss: 0.3319 - accuracy: 0.8635\n",
      "Epoch 94/100\n",
      "250/250 [==============================] - 0s 503us/step - loss: 0.3316 - accuracy: 0.8641\n",
      "Epoch 95/100\n",
      "250/250 [==============================] - 0s 507us/step - loss: 0.3313 - accuracy: 0.8636\n",
      "Epoch 96/100\n",
      "250/250 [==============================] - 0s 519us/step - loss: 0.3317 - accuracy: 0.8635\n",
      "Epoch 97/100\n",
      "250/250 [==============================] - 0s 507us/step - loss: 0.3312 - accuracy: 0.8639\n",
      "Epoch 98/100\n",
      "250/250 [==============================] - 0s 499us/step - loss: 0.3317 - accuracy: 0.8629\n",
      "Epoch 99/100\n",
      "250/250 [==============================] - 0s 495us/step - loss: 0.3311 - accuracy: 0.8644\n",
      "Epoch 100/100\n",
      "250/250 [==============================] - 0s 495us/step - loss: 0.3317 - accuracy: 0.8619\n"
     ]
    },
    {
     "data": {
      "text/plain": [
       "<tensorflow.python.keras.callbacks.History at 0x219a8e509c8>"
      ]
     },
     "execution_count": 15,
     "metadata": {},
     "output_type": "execute_result"
    }
   ],
   "source": [
    "ann.fit(X_train, y_train, batch_size = 32, epochs = 100)"
   ]
  },
  {
   "cell_type": "markdown",
   "metadata": {
    "colab_type": "text",
    "id": "tJj5k2MxZga3"
   },
   "source": [
    "## Part 4 - Making the predictions and evaluating the model"
   ]
  },
  {
   "cell_type": "markdown",
   "metadata": {
    "colab_type": "text",
    "id": "84QFoqGYeXHL"
   },
   "source": [
    "### Predicting the result of a single observation"
   ]
  },
  {
   "cell_type": "markdown",
   "metadata": {
    "colab_type": "text",
    "id": "CGRo3eacgDdC"
   },
   "source": [
    "**Homework**\n",
    "\n",
    "Use our ANN model to predict if the customer with the following informations will leave the bank: \n",
    "\n",
    "Geography: France\n",
    "\n",
    "Credit Score: 600\n",
    "\n",
    "Gender: Male\n",
    "\n",
    "Age: 40 years old\n",
    "\n",
    "Tenure: 3 years\n",
    "\n",
    "Balance: \\$ 60000\n",
    "\n",
    "Number of Products: 2\n",
    "\n",
    "Does this customer have a credit card? Yes\n",
    "\n",
    "Is this customer an Active Member: Yes\n",
    "\n",
    "Estimated Salary: \\$ 50000\n",
    "\n",
    "So, should we say goodbye to that customer?"
   ]
  },
  {
   "cell_type": "markdown",
   "metadata": {
    "colab_type": "text",
    "id": "ZhU1LTgPg-kH"
   },
   "source": [
    "**Solution**"
   ]
  },
  {
   "cell_type": "code",
   "execution_count": 17,
   "metadata": {},
   "outputs": [
    {
     "name": "stdout",
     "output_type": "stream",
     "text": [
      "[[False]]\n"
     ]
    }
   ],
   "source": [
    "print(ann.predict(sc.transform([[1, 0, 0, 600, 1, 40, 3, 60000, 2, 1, 1, 50000]])) > 0.5) \n",
    "# Sigmoid function used to activate output variable, so look for a probability "
   ]
  },
  {
   "cell_type": "markdown",
   "metadata": {
    "colab_type": "text",
    "id": "wGjx94g2n7OV"
   },
   "source": [
    "Therefore, our ANN model predicts that this customer stays in the bank!\n",
    "\n",
    "**Important note 1:** Notice that the values of the features were all input in a double pair of square brackets. That's because the \"predict\" method always expects a 2D array as the format of its inputs. And putting our values into a double pair of square brackets makes the input exactly a 2D array.\n",
    "\n",
    "**Important note 2:** Notice also that the \"France\" country was not input as a string in the last column but as \"1, 0, 0\" in the first three columns. That's because of course the predict method expects the one-hot-encoded values of the state, and as we see in the first row of the matrix of features X, \"France\" was encoded as \"1, 0, 0\". And be careful to include these values in the first three columns, because the dummy variables are always created in the first columns."
   ]
  },
  {
   "cell_type": "markdown",
   "metadata": {
    "colab_type": "text",
    "id": "u7yx47jPZt11"
   },
   "source": [
    "### Predicting the Test set results"
   ]
  },
  {
   "cell_type": "code",
   "execution_count": 18,
   "metadata": {},
   "outputs": [
    {
     "name": "stdout",
     "output_type": "stream",
     "text": [
      "[[0 0]\n",
      " [0 1]\n",
      " [0 0]\n",
      " ...\n",
      " [0 0]\n",
      " [0 0]\n",
      " [0 0]]\n"
     ]
    }
   ],
   "source": [
    "y_pred = ann.predict(X_test)\n",
    "y_pred = (y_pred > 0.5)\n",
    "print(np.concatenate((y_pred.reshape(len(y_pred), 1), y_test.reshape(len(y_test), 1)), 1))"
   ]
  },
  {
   "cell_type": "markdown",
   "metadata": {
    "colab_type": "text",
    "id": "o0oyfLWoaEGw"
   },
   "source": [
    "### Making the Confusion Matrix"
   ]
  },
  {
   "cell_type": "code",
   "execution_count": 19,
   "metadata": {},
   "outputs": [
    {
     "name": "stdout",
     "output_type": "stream",
     "text": [
      "[[1516   79]\n",
      " [ 204  201]]\n"
     ]
    },
    {
     "data": {
      "text/plain": [
       "0.8585"
      ]
     },
     "execution_count": 19,
     "metadata": {},
     "output_type": "execute_result"
    }
   ],
   "source": [
    "from sklearn.metrics import confusion_matrix, accuracy_score\n",
    "cm = confusion_matrix(y_test, y_pred)\n",
    "print(cm)\n",
    "accuracy_score(y_test, y_pred)"
   ]
  }
 ],
 "metadata": {
  "colab": {
   "authorship_tag": "ABX9TyMeRFWFoGrdaL5S3dx5MWmb",
   "collapsed_sections": [],
   "name": "artificial_neural_network.ipynb",
   "provenance": [],
   "toc_visible": true
  },
  "kernelspec": {
   "display_name": "Python 3",
   "language": "python",
   "name": "python3"
  },
  "language_info": {
   "codemirror_mode": {
    "name": "ipython",
    "version": 3
   },
   "file_extension": ".py",
   "mimetype": "text/x-python",
   "name": "python",
   "nbconvert_exporter": "python",
   "pygments_lexer": "ipython3",
   "version": "3.7.6"
  },
  "varInspector": {
   "cols": {
    "lenName": 16,
    "lenType": 16,
    "lenVar": 40
   },
   "kernels_config": {
    "python": {
     "delete_cmd_postfix": "",
     "delete_cmd_prefix": "del ",
     "library": "var_list.py",
     "varRefreshCmd": "print(var_dic_list())"
    },
    "r": {
     "delete_cmd_postfix": ") ",
     "delete_cmd_prefix": "rm(",
     "library": "var_list.r",
     "varRefreshCmd": "cat(var_dic_list()) "
    }
   },
   "types_to_exclude": [
    "module",
    "function",
    "builtin_function_or_method",
    "instance",
    "_Feature"
   ],
   "window_display": false
  }
 },
 "nbformat": 4,
 "nbformat_minor": 1
}
